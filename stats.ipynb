{
 "cells": [
  {
   "cell_type": "code",
   "execution_count": 1,
   "id": "770ed54c-904a-4316-aa58-d7db5edac4cb",
   "metadata": {},
   "outputs": [],
   "source": [
    "import pandas as pd"
   ]
  },
  {
   "cell_type": "code",
   "execution_count": 23,
   "id": "b9b37ae0-f585-44cd-ba05-7f37bd3af9e2",
   "metadata": {},
   "outputs": [],
   "source": [
    "posts = pd.read_csv('ThreadsDataset/posts.csv', header=0)\n",
    "posts['time'] = pd.to_datetime(posts['time'])\n",
    "users = pd.read_csv('ThreadsDataset/users.csv', header=0)"
   ]
  },
  {
   "cell_type": "code",
   "execution_count": 24,
   "id": "82b27a83-ca37-4ae2-8ae1-fd9757f31514",
   "metadata": {},
   "outputs": [
    {
     "data": {
      "text/plain": [
       "Timestamp('2024-02-21 14:46:07')"
      ]
     },
     "execution_count": 24,
     "metadata": {},
     "output_type": "execute_result"
    }
   ],
   "source": [
    "max(posts.time)"
   ]
  },
  {
   "cell_type": "code",
   "execution_count": 25,
   "id": "1424610c-2537-4d55-8807-ab303d8876e6",
   "metadata": {},
   "outputs": [
    {
     "data": {
      "text/plain": [
       "11        888a7f6d47254b833f252064b889e9e1\n",
       "12        44ba01f444e773054b16996810aa14ad\n",
       "29        8979536e0c113ddc4137f0fac2e53b18\n",
       "86        983c57b4c05b43b38d75e5e759028d5a\n",
       "168       22d1fcdca2d40e6d81e552f83904e216\n",
       "                        ...               \n",
       "119534    0dd255c820879ff23282231e89bb140e\n",
       "119567    8b9065a645a3ac4a2f614d09446e9a2e\n",
       "119611    5491be570ee9209836389325e5dd93ce\n",
       "119612    82001470ad0f679184b2a6e5a68e207e\n",
       "119633    6c9dcaadcf878c16037ff1a5073a2ef1\n",
       "Name: url, Length: 2928, dtype: object"
      ]
     },
     "execution_count": 25,
     "metadata": {},
     "output_type": "execute_result"
    }
   ],
   "source": [
    "posts.loc[posts['caption'].isna()][\"url\"]"
   ]
  },
  {
   "cell_type": "code",
   "execution_count": 26,
   "id": "327d3071-5f4e-4b08-9a07-a68c965b14fb",
   "metadata": {},
   "outputs": [
    {
     "name": "stdout",
     "output_type": "stream",
     "text": [
      "129028\n",
      "108487\n"
     ]
    }
   ],
   "source": [
    "print(len(posts['url'].unique()))\n",
    "print(len(posts.loc[~posts['parent_post'].isna()][\"url\"].unique()))"
   ]
  },
  {
   "cell_type": "code",
   "execution_count": 27,
   "id": "3aa3edb0-da58-416a-9b6f-bda62ac5d57e",
   "metadata": {},
   "outputs": [
    {
     "name": "stdout",
     "output_type": "stream",
     "text": [
      "55393\n"
     ]
    }
   ],
   "source": [
    "print(len(users[\"url\"].unique()))"
   ]
  },
  {
   "cell_type": "code",
   "execution_count": 28,
   "id": "de3eb895-700e-4966-80f6-1a51647437e5",
   "metadata": {},
   "outputs": [
    {
     "data": {
      "text/html": [
       "<div>\n",
       "<style scoped>\n",
       "    .dataframe tbody tr th:only-of-type {\n",
       "        vertical-align: middle;\n",
       "    }\n",
       "\n",
       "    .dataframe tbody tr th {\n",
       "        vertical-align: top;\n",
       "    }\n",
       "\n",
       "    .dataframe thead th {\n",
       "        text-align: right;\n",
       "    }\n",
       "</style>\n",
       "<table border=\"1\" class=\"dataframe\">\n",
       "  <thead>\n",
       "    <tr style=\"text-align: right;\">\n",
       "      <th></th>\n",
       "      <th>url</th>\n",
       "      <th>parent_post</th>\n",
       "      <th>user</th>\n",
       "      <th>caption</th>\n",
       "      <th>image_video</th>\n",
       "      <th>time</th>\n",
       "      <th>likes</th>\n",
       "    </tr>\n",
       "  </thead>\n",
       "  <tbody>\n",
       "    <tr>\n",
       "      <th>11</th>\n",
       "      <td>888a7f6d47254b833f252064b889e9e1</td>\n",
       "      <td>08507ab6249f9563381475345b6f035b</td>\n",
       "      <td>46c164c7983c412de5ef75268425a607</td>\n",
       "      <td>NaN</td>\n",
       "      <td>NaN</td>\n",
       "      <td>2023-12-14 20:59:10</td>\n",
       "      <td>2</td>\n",
       "    </tr>\n",
       "    <tr>\n",
       "      <th>12</th>\n",
       "      <td>44ba01f444e773054b16996810aa14ad</td>\n",
       "      <td>646b57b9ecab5a66e5b7091e786bd527</td>\n",
       "      <td>46c164c7983c412de5ef75268425a607</td>\n",
       "      <td>NaN</td>\n",
       "      <td>NaN</td>\n",
       "      <td>2024-01-24 14:32:17</td>\n",
       "      <td>0</td>\n",
       "    </tr>\n",
       "    <tr>\n",
       "      <th>29</th>\n",
       "      <td>8979536e0c113ddc4137f0fac2e53b18</td>\n",
       "      <td>a2cb23d7930f7b076c85c7662085f28c</td>\n",
       "      <td>54a55d6c0ecdcd9cfe1ec7cd14674c95</td>\n",
       "      <td>NaN</td>\n",
       "      <td>NaN</td>\n",
       "      <td>2024-01-23 15:42:51</td>\n",
       "      <td>4</td>\n",
       "    </tr>\n",
       "    <tr>\n",
       "      <th>86</th>\n",
       "      <td>983c57b4c05b43b38d75e5e759028d5a</td>\n",
       "      <td>63c21bec7dd955f274c0e1a8d8eba8e1</td>\n",
       "      <td>06da3a0724e631d53faa324e4a81e418</td>\n",
       "      <td>NaN</td>\n",
       "      <td>NaN</td>\n",
       "      <td>2023-12-15 04:56:46</td>\n",
       "      <td>0</td>\n",
       "    </tr>\n",
       "    <tr>\n",
       "      <th>168</th>\n",
       "      <td>22d1fcdca2d40e6d81e552f83904e216</td>\n",
       "      <td>4028bb8d2f63b621a84af9a881499bf3</td>\n",
       "      <td>b1f6d2d0bcfe5f5f9db85727cc2580c2</td>\n",
       "      <td>NaN</td>\n",
       "      <td>NaN</td>\n",
       "      <td>2024-01-08 17:28:52</td>\n",
       "      <td>8</td>\n",
       "    </tr>\n",
       "    <tr>\n",
       "      <th>...</th>\n",
       "      <td>...</td>\n",
       "      <td>...</td>\n",
       "      <td>...</td>\n",
       "      <td>...</td>\n",
       "      <td>...</td>\n",
       "      <td>...</td>\n",
       "      <td>...</td>\n",
       "    </tr>\n",
       "    <tr>\n",
       "      <th>119534</th>\n",
       "      <td>0dd255c820879ff23282231e89bb140e</td>\n",
       "      <td>795a3b7de719737cc2a7f4609c1330b4</td>\n",
       "      <td>bcb7a0064033c55d11ff55a94b0fd405</td>\n",
       "      <td>NaN</td>\n",
       "      <td>NaN</td>\n",
       "      <td>2024-01-10 05:24:36</td>\n",
       "      <td>0</td>\n",
       "    </tr>\n",
       "    <tr>\n",
       "      <th>119567</th>\n",
       "      <td>8b9065a645a3ac4a2f614d09446e9a2e</td>\n",
       "      <td>27eac5b460bf01c4ddc7a9b9f5a308ae</td>\n",
       "      <td>e9d107fc44f778e527e35180e47bf6a9</td>\n",
       "      <td>NaN</td>\n",
       "      <td>NaN</td>\n",
       "      <td>2023-12-14 15:37:48</td>\n",
       "      <td>1</td>\n",
       "    </tr>\n",
       "    <tr>\n",
       "      <th>119611</th>\n",
       "      <td>5491be570ee9209836389325e5dd93ce</td>\n",
       "      <td>781212859af2d1d9e796072638985e23</td>\n",
       "      <td>62ec1b5d1a084199060d29e99123e73d</td>\n",
       "      <td>NaN</td>\n",
       "      <td>NaN</td>\n",
       "      <td>2024-01-20 13:08:38</td>\n",
       "      <td>2</td>\n",
       "    </tr>\n",
       "    <tr>\n",
       "      <th>119612</th>\n",
       "      <td>82001470ad0f679184b2a6e5a68e207e</td>\n",
       "      <td>37681c89e997b870b1d19b0b77a73be1</td>\n",
       "      <td>462407c29024dc5802bd7293ecefad6a</td>\n",
       "      <td>NaN</td>\n",
       "      <td>NaN</td>\n",
       "      <td>2023-12-14 19:37:44</td>\n",
       "      <td>7</td>\n",
       "    </tr>\n",
       "    <tr>\n",
       "      <th>119633</th>\n",
       "      <td>6c9dcaadcf878c16037ff1a5073a2ef1</td>\n",
       "      <td>5a6a7e5303eff2568949632a1aeaadd1</td>\n",
       "      <td>d098589b879b7edfebd50415a4390c50</td>\n",
       "      <td>NaN</td>\n",
       "      <td>NaN</td>\n",
       "      <td>2023-12-19 10:42:26</td>\n",
       "      <td>3</td>\n",
       "    </tr>\n",
       "  </tbody>\n",
       "</table>\n",
       "<p>2928 rows × 7 columns</p>\n",
       "</div>"
      ],
      "text/plain": [
       "                                     url                       parent_post  \\\n",
       "11      888a7f6d47254b833f252064b889e9e1  08507ab6249f9563381475345b6f035b   \n",
       "12      44ba01f444e773054b16996810aa14ad  646b57b9ecab5a66e5b7091e786bd527   \n",
       "29      8979536e0c113ddc4137f0fac2e53b18  a2cb23d7930f7b076c85c7662085f28c   \n",
       "86      983c57b4c05b43b38d75e5e759028d5a  63c21bec7dd955f274c0e1a8d8eba8e1   \n",
       "168     22d1fcdca2d40e6d81e552f83904e216  4028bb8d2f63b621a84af9a881499bf3   \n",
       "...                                  ...                               ...   \n",
       "119534  0dd255c820879ff23282231e89bb140e  795a3b7de719737cc2a7f4609c1330b4   \n",
       "119567  8b9065a645a3ac4a2f614d09446e9a2e  27eac5b460bf01c4ddc7a9b9f5a308ae   \n",
       "119611  5491be570ee9209836389325e5dd93ce  781212859af2d1d9e796072638985e23   \n",
       "119612  82001470ad0f679184b2a6e5a68e207e  37681c89e997b870b1d19b0b77a73be1   \n",
       "119633  6c9dcaadcf878c16037ff1a5073a2ef1  5a6a7e5303eff2568949632a1aeaadd1   \n",
       "\n",
       "                                    user caption image_video  \\\n",
       "11      46c164c7983c412de5ef75268425a607     NaN         NaN   \n",
       "12      46c164c7983c412de5ef75268425a607     NaN         NaN   \n",
       "29      54a55d6c0ecdcd9cfe1ec7cd14674c95     NaN         NaN   \n",
       "86      06da3a0724e631d53faa324e4a81e418     NaN         NaN   \n",
       "168     b1f6d2d0bcfe5f5f9db85727cc2580c2     NaN         NaN   \n",
       "...                                  ...     ...         ...   \n",
       "119534  bcb7a0064033c55d11ff55a94b0fd405     NaN         NaN   \n",
       "119567  e9d107fc44f778e527e35180e47bf6a9     NaN         NaN   \n",
       "119611  62ec1b5d1a084199060d29e99123e73d     NaN         NaN   \n",
       "119612  462407c29024dc5802bd7293ecefad6a     NaN         NaN   \n",
       "119633  d098589b879b7edfebd50415a4390c50     NaN         NaN   \n",
       "\n",
       "                      time  likes  \n",
       "11     2023-12-14 20:59:10      2  \n",
       "12     2024-01-24 14:32:17      0  \n",
       "29     2024-01-23 15:42:51      4  \n",
       "86     2023-12-15 04:56:46      0  \n",
       "168    2024-01-08 17:28:52      8  \n",
       "...                    ...    ...  \n",
       "119534 2024-01-10 05:24:36      0  \n",
       "119567 2023-12-14 15:37:48      1  \n",
       "119611 2024-01-20 13:08:38      2  \n",
       "119612 2023-12-14 19:37:44      7  \n",
       "119633 2023-12-19 10:42:26      3  \n",
       "\n",
       "[2928 rows x 7 columns]"
      ]
     },
     "execution_count": 28,
     "metadata": {},
     "output_type": "execute_result"
    }
   ],
   "source": [
    "posts.loc[posts['image_video'].isna() & posts['caption'].isna()]"
   ]
  },
  {
   "cell_type": "code",
   "execution_count": 29,
   "id": "c55c3545-c41a-4186-8c9b-dca9f2fca623",
   "metadata": {},
   "outputs": [
    {
     "name": "stdout",
     "output_type": "stream",
     "text": [
      "126100\n",
      "0.9773072511392876\n",
      "11984\n",
      "0.0928790650091453\n",
      "11984\n",
      "0\n",
      "2023-12-14 09:01:36\n",
      "2024-02-21 14:46:07\n",
      "0\n",
      "41064\n",
      "56.88668351055585\n"
     ]
    }
   ],
   "source": [
    "# Posts with caption\n",
    "print(len(posts.loc[~posts['caption'].isna()][\"url\"].unique()))\n",
    "print(len(posts.loc[~posts['caption'].isna()][\"url\"].unique())/len(posts))\n",
    "\n",
    "# Posts with image_video\n",
    "print(len(posts.loc[~posts['image_video'].isna()][\"url\"].unique()))\n",
    "print(len(posts.loc[~posts['image_video'].isna()][\"url\"].unique())/len(posts))\n",
    "\n",
    "# Posts with image_video and caption\n",
    "print(len(posts.loc[(~posts['image_video'].isna()) & (~posts['caption'].isna())][\"url\"].unique()))\n",
    "\n",
    "# Posts with image_video and caption\n",
    "print(len(posts.loc[(~posts['image_video'].isna()) & (posts['caption'].isna())][\"url\"].unique()))\n",
    "\n",
    "# Prima data\n",
    "print(posts[\"time\"].min())\n",
    "\n",
    "# Ultima data\n",
    "print(posts[\"time\"].max())\n",
    "\n",
    "# Min, max, average number of likes\n",
    "print(posts[\"likes\"].min())\n",
    "print(posts[\"likes\"].max())\n",
    "print(posts[\"likes\"].mean())"
   ]
  },
  {
   "cell_type": "code",
   "execution_count": 30,
   "id": "eaa7119a-31c1-468e-9a2c-50a13d51723e",
   "metadata": {},
   "outputs": [
    {
     "data": {
      "text/html": [
       "<div>\n",
       "<style scoped>\n",
       "    .dataframe tbody tr th:only-of-type {\n",
       "        vertical-align: middle;\n",
       "    }\n",
       "\n",
       "    .dataframe tbody tr th {\n",
       "        vertical-align: top;\n",
       "    }\n",
       "\n",
       "    .dataframe thead th {\n",
       "        text-align: right;\n",
       "    }\n",
       "</style>\n",
       "<table border=\"1\" class=\"dataframe\">\n",
       "  <thead>\n",
       "    <tr style=\"text-align: right;\">\n",
       "      <th></th>\n",
       "      <th>url</th>\n",
       "      <th>username</th>\n",
       "      <th>display_name</th>\n",
       "      <th>bio</th>\n",
       "      <th>followers</th>\n",
       "      <th>bio_url</th>\n",
       "    </tr>\n",
       "  </thead>\n",
       "  <tbody>\n",
       "    <tr>\n",
       "      <th>0</th>\n",
       "      <td>8113978a1367cebe4a0675ece5f50edd</td>\n",
       "      <td>fe7530f4e5a137fdcb0ae90204edbe16</td>\n",
       "      <td>48a7734573e8d43d4ac4077f01b8c8b9</td>\n",
       "      <td>NaN</td>\n",
       "      <td>0</td>\n",
       "      <td>NaN</td>\n",
       "    </tr>\n",
       "    <tr>\n",
       "      <th>1</th>\n",
       "      <td>e89611e4e092b02712c041d49c6095f1</td>\n",
       "      <td>d5ac5fdcb7637a229b89795529834243</td>\n",
       "      <td>5b8388c6d4e07a04238d661f536f6654</td>\n",
       "      <td>NaN</td>\n",
       "      <td>48</td>\n",
       "      <td>NaN</td>\n",
       "    </tr>\n",
       "    <tr>\n",
       "      <th>2</th>\n",
       "      <td>c1828961e82c462533f713ae41bef4ed</td>\n",
       "      <td>9afcfb7cf3e32506127d91f20d87ebc9</td>\n",
       "      <td>612090f0af15097430f5c7b88fc5ccda</td>\n",
       "      <td>Yogi</td>\n",
       "      <td>457</td>\n",
       "      <td>5f50c6fdad91c2ef643c370ed51993c3</td>\n",
       "    </tr>\n",
       "    <tr>\n",
       "      <th>3</th>\n",
       "      <td>6a45b802d9d15321c21e4dcc6f766857</td>\n",
       "      <td>e217120f6fcdcd607ea519a6228dd32b</td>\n",
       "      <td>c6bf4de11cf1a5dd10eeb2e3acb4dfa7</td>\n",
       "      <td>NaN</td>\n",
       "      <td>3</td>\n",
       "      <td>NaN</td>\n",
       "    </tr>\n",
       "    <tr>\n",
       "      <th>4</th>\n",
       "      <td>23aa4422221081eb6dddf22439458472</td>\n",
       "      <td>8488f64c9928bdc8e788f07b04759ef5</td>\n",
       "      <td>ab7ff6ed48fd0cc7b59c09a5fa61325e</td>\n",
       "      <td>sleep less, read more...</td>\n",
       "      <td>39</td>\n",
       "      <td>NaN</td>\n",
       "    </tr>\n",
       "  </tbody>\n",
       "</table>\n",
       "</div>"
      ],
      "text/plain": [
       "                                url                          username  \\\n",
       "0  8113978a1367cebe4a0675ece5f50edd  fe7530f4e5a137fdcb0ae90204edbe16   \n",
       "1  e89611e4e092b02712c041d49c6095f1  d5ac5fdcb7637a229b89795529834243   \n",
       "2  c1828961e82c462533f713ae41bef4ed  9afcfb7cf3e32506127d91f20d87ebc9   \n",
       "3  6a45b802d9d15321c21e4dcc6f766857  e217120f6fcdcd607ea519a6228dd32b   \n",
       "4  23aa4422221081eb6dddf22439458472  8488f64c9928bdc8e788f07b04759ef5   \n",
       "\n",
       "                       display_name                       bio  followers  \\\n",
       "0  48a7734573e8d43d4ac4077f01b8c8b9                       NaN          0   \n",
       "1  5b8388c6d4e07a04238d661f536f6654                       NaN         48   \n",
       "2  612090f0af15097430f5c7b88fc5ccda                      Yogi        457   \n",
       "3  c6bf4de11cf1a5dd10eeb2e3acb4dfa7                       NaN          3   \n",
       "4  ab7ff6ed48fd0cc7b59c09a5fa61325e  sleep less, read more...         39   \n",
       "\n",
       "                            bio_url  \n",
       "0                               NaN  \n",
       "1                               NaN  \n",
       "2  5f50c6fdad91c2ef643c370ed51993c3  \n",
       "3                               NaN  \n",
       "4                               NaN  "
      ]
     },
     "execution_count": 30,
     "metadata": {},
     "output_type": "execute_result"
    }
   ],
   "source": [
    "users.head()"
   ]
  },
  {
   "cell_type": "code",
   "execution_count": null,
   "id": "39fd09b0-cc4c-46ca-a903-0405751f5c68",
   "metadata": {},
   "outputs": [],
   "source": []
  },
  {
   "cell_type": "code",
   "execution_count": null,
   "id": "9dc3e40d-4d0b-4056-9a95-02d54e6f8a21",
   "metadata": {},
   "outputs": [],
   "source": []
  },
  {
   "cell_type": "code",
   "execution_count": 32,
   "id": "4be05f3e-cb40-4fcf-884d-f088e8f4365f",
   "metadata": {},
   "outputs": [
    {
     "name": "stdout",
     "output_type": "stream",
     "text": [
      "2.3293195891177585\n",
      "0.37082302818045604\n",
      "1.9584965609373026\n",
      "3473\n",
      "42896\n",
      "19110\n",
      "0\n",
      "9999\n",
      "507.37835105518747\n"
     ]
    }
   ],
   "source": [
    "# Average posts per user\n",
    "users_n = len(posts[\"user\"].unique())\n",
    "posts_n = len(posts['url'].unique())\n",
    "print(posts_n/users_n)\n",
    "\n",
    "# Average original posts per user\n",
    "oroginal_n = len(posts.loc[posts['parent_post'].isna()][\"url\"].unique())\n",
    "print(oroginal_n/users_n)\n",
    "\n",
    "# Average comments per user\n",
    "comments_n = len(posts.loc[~posts['parent_post'].isna()][\"url\"].unique())\n",
    "print(comments_n/users_n)\n",
    "\n",
    "# Users with same username and display name\n",
    "print(len(users[users['username']==users['display_name']]))\n",
    "\n",
    "# Users with bio\n",
    "print(len(users[~users['bio'].isna()]))\n",
    "\n",
    "# Users with bio url\n",
    "print(len(users[~users['bio_url'].isna()]))\n",
    "\n",
    "# Min, Max, average followers\n",
    "print(users['followers'].min())\n",
    "print(users['followers'].max())\n",
    "print(users['followers'].mean())"
   ]
  },
  {
   "cell_type": "code",
   "execution_count": 35,
   "id": "b02adefd-f288-4e46-a927-6d6075d46e88",
   "metadata": {},
   "outputs": [
    {
     "name": "stdout",
     "output_type": "stream",
     "text": [
      "{'.jpg', '.mp4'}\n",
      "9277\n",
      "2706\n"
     ]
    }
   ],
   "source": [
    "import os\n",
    "\n",
    "# All visual contents\n",
    "file_names = os.listdir('ThreadsDataset/contents')\n",
    "\n",
    "# All extensions\n",
    "file_extensions = {os.path.splitext(file)[1] for file in file_names if os.path.isfile(os.path.join('ThreadsDataset/contents', file))}\n",
    "print(set(file_extensions))\n",
    "\n",
    "# Conteggio immagini e video\n",
    "count_jpg = 0\n",
    "count_mp4 = 0\n",
    "for file in file_names:\n",
    "    if os.path.isfile(os.path.join('ThreadsDataset/contents', file)):\n",
    "        if file.lower().endswith('.jpg'):\n",
    "            count_jpg += 1\n",
    "        elif file.lower().endswith('.mp4'):\n",
    "            count_mp4 += 1\n",
    "print(count_jpg)\n",
    "print(count_mp4)"
   ]
  },
  {
   "cell_type": "code",
   "execution_count": 36,
   "id": "2819fa16-4b5f-4bff-a77c-3d6edd4a8cb2",
   "metadata": {},
   "outputs": [
    {
     "name": "stdout",
     "output_type": "stream",
     "text": [
      "Minimum size: (320, 85)\n",
      "Maximum size: (3072, 3415)\n",
      "Median size: (1179, 1482)\n",
      "Mode size(s): [(1080, 1350)]\n"
     ]
    }
   ],
   "source": [
    "from PIL import Image\n",
    "import os\n",
    "from collections import Counter\n",
    "\n",
    "folder_path = 'ThreadsDataset/contents'\n",
    "\n",
    "sizes = []\n",
    "\n",
    "for file in os.listdir(folder_path):\n",
    "    if file.lower().endswith('.jpg') and os.path.isfile(os.path.join(folder_path, file)):\n",
    "        with Image.open(os.path.join(folder_path, file)) as img:\n",
    "            sizes.append(img.size)  # img.size is a tuple (width, height)\n",
    "\n",
    "if sizes:\n",
    "    # Convert sizes to area (width x height) for comparison\n",
    "    areas = [width * height for width, height in sizes]\n",
    "\n",
    "    min_size = min(sizes, key=lambda x: x[0]*x[1])\n",
    "    max_size = max(sizes, key=lambda x: x[0]*x[1])\n",
    "    median_size = sorted(sizes, key=lambda x: x[0]*x[1])[len(sizes) // 2]\n",
    "    \n",
    "    # Compute the mode\n",
    "    size_counts = Counter(sizes)\n",
    "    max_count = max(size_counts.values())\n",
    "    mode_sizes = [size for size, count in size_counts.items() if count == max_count]\n",
    "else:\n",
    "    min_size = max_size = median_size = mode_sizes = None\n",
    "\n",
    "print(f\"Minimum size: {min_size}\")\n",
    "print(f\"Maximum size: {max_size}\")\n",
    "print(f\"Median size: {median_size}\")\n",
    "print(f\"Mode size(s): {mode_sizes}\")"
   ]
  },
  {
   "cell_type": "code",
   "execution_count": 37,
   "id": "13cc6c99-51c2-4c4f-b05e-7dca4f18196c",
   "metadata": {},
   "outputs": [
    {
     "name": "stderr",
     "output_type": "stream",
     "text": [
      "ALSA lib confmisc.c:855:(parse_card) cannot find card '0'\n",
      "ALSA lib conf.c:5178:(_snd_config_evaluate) function snd_func_card_inum returned error: No such file or directory\n",
      "ALSA lib confmisc.c:422:(snd_func_concat) error evaluating strings\n",
      "ALSA lib conf.c:5178:(_snd_config_evaluate) function snd_func_concat returned error: No such file or directory\n",
      "ALSA lib confmisc.c:1334:(snd_func_refer) error evaluating name\n",
      "ALSA lib conf.c:5178:(_snd_config_evaluate) function snd_func_refer returned error: No such file or directory\n",
      "ALSA lib conf.c:5701:(snd_config_expand) Evaluate error: No such file or directory\n",
      "ALSA lib pcm.c:2664:(snd_pcm_open_noupdate) Unknown PCM default\n",
      "ALSA lib confmisc.c:855:(parse_card) cannot find card '0'\n",
      "ALSA lib conf.c:5178:(_snd_config_evaluate) function snd_func_card_inum returned error: No such file or directory\n",
      "ALSA lib confmisc.c:422:(snd_func_concat) error evaluating strings\n",
      "ALSA lib conf.c:5178:(_snd_config_evaluate) function snd_func_concat returned error: No such file or directory\n",
      "ALSA lib confmisc.c:1334:(snd_func_refer) error evaluating name\n",
      "ALSA lib conf.c:5178:(_snd_config_evaluate) function snd_func_refer returned error: No such file or directory\n",
      "ALSA lib conf.c:5701:(snd_config_expand) Evaluate error: No such file or directory\n",
      "ALSA lib pcm.c:2664:(snd_pcm_open_noupdate) Unknown PCM default\n"
     ]
    },
    {
     "name": "stdout",
     "output_type": "stream",
     "text": [
      "Minimum duration: 0.56 seconds\n",
      "Maximum duration: 298.6 seconds\n",
      "Average duration: 32.965129342202566 seconds\n"
     ]
    }
   ],
   "source": [
    "# Video durations\n",
    "from moviepy.editor import VideoFileClip\n",
    "\n",
    "durations = []\n",
    "\n",
    "for file in os.listdir(folder_path):\n",
    "    if file.lower().endswith('.mp4') and os.path.isfile(os.path.join(folder_path, file)):\n",
    "        with VideoFileClip(os.path.join(folder_path, file)) as video:\n",
    "            durations.append(video.duration)\n",
    "if durations:\n",
    "    min_duration = min(durations)\n",
    "    max_duration = max(durations)\n",
    "    avg_duration = sum(durations) / len(durations)\n",
    "else:\n",
    "    min_duration = max_duration = avg_duration = None\n",
    "print(f\"Minimum duration: {min_duration} seconds\")\n",
    "print(f\"Maximum duration: {max_duration} seconds\")\n",
    "print(f\"Average duration: {avg_duration} seconds\")\n"
   ]
  },
  {
   "cell_type": "code",
   "execution_count": null,
   "id": "f9eea475-c539-47f9-a782-d7b167e190af",
   "metadata": {},
   "outputs": [],
   "source": []
  }
 ],
 "metadata": {
  "kernelspec": {
   "display_name": "Python 3 (ipykernel)",
   "language": "python",
   "name": "python3"
  },
  "language_info": {
   "codemirror_mode": {
    "name": "ipython",
    "version": 3
   },
   "file_extension": ".py",
   "mimetype": "text/x-python",
   "name": "python",
   "nbconvert_exporter": "python",
   "pygments_lexer": "ipython3",
   "version": "3.10.12"
  }
 },
 "nbformat": 4,
 "nbformat_minor": 5
}
