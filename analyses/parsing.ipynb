{
 "cells": [
  {
   "cell_type": "code",
   "execution_count": 1,
   "id": "e46140c9-cf48-4c23-b1e4-03a95c70fb77",
   "metadata": {
    "editable": true,
    "slideshow": {
     "slide_type": ""
    },
    "tags": []
   },
   "outputs": [],
   "source": [
    "import pandas as pd"
   ]
  },
  {
   "cell_type": "code",
   "execution_count": 3,
   "id": "88318543-2e52-47ea-9eac-2872fac1ed57",
   "metadata": {},
   "outputs": [
    {
     "data": {
      "text/plain": [
       "129029"
      ]
     },
     "execution_count": 3,
     "metadata": {},
     "output_type": "execute_result"
    }
   ],
   "source": [
    "posts = pd.read_csv('ThreadsDataset/posts.csv', on_bad_lines='warn', sep=',', header=None)\n",
    "len(posts)"
   ]
  },
  {
   "cell_type": "code",
   "execution_count": 5,
   "id": "d6658fc1-3df6-43a3-9ddc-8000d45d9ac9",
   "metadata": {},
   "outputs": [
    {
     "name": "stderr",
     "output_type": "stream",
     "text": [
      "/tmp/ipykernel_564/3969646442.py:3: UserWarning: Could not infer format, so each element will be parsed individually, falling back to `dateutil`. To ensure parsing is consistent and as-expected, please specify a format.\n",
      "  posts[\"time\"] = pd.to_datetime(posts[\"time\"], errors='coerce')\n"
     ]
    }
   ],
   "source": [
    "posts = pd.read_csv('ThreadsDataset/posts.csv', on_bad_lines='warn', sep=',', header=None)\n",
    "posts.columns = ['url', 'parent_post', 'user', 'caption', 'image_video', 'time', 'likes']\n",
    "posts[\"time\"] = pd.to_datetime(posts[\"time\"], errors='coerce')\n",
    "posts = posts[posts[\"time\"].notna()]\n",
    "posts['likes'] = pd.to_numeric(posts['likes'], errors='coerce').fillna(0)\n",
    "posts['likes'] = posts['likes'].astype(int)\n",
    "posts[\"image_video\"] = posts[\"image_video\"].apply(lambda x: x.replace(\"/HD120G/threads_data/visual_contents/\", \"\") if pd.notna(x) else x)\n",
    "\n",
    "users = pd.read_csv('ThreadsDataset/users.csv', on_bad_lines='warn', sep=',', header=None)\n",
    "users.columns = ['url', 'username', 'displayname', 'bio', 'followers', 'bio_url']\n",
    "users = users[users['url'].isin(posts[\"user\"])]\n",
    "users['followers'] = pd.to_numeric(users['followers'], errors='coerce').fillna(0)\n",
    "users['followers'] = users['followers'].astype(int)\n",
    "posts = posts[posts['user'].isin(users[\"url\"])]\n",
    "\n",
    "posts.to_csv('ThreadsDataset/posts.csv', index=False)\n",
    "users.to_csv('ThreadsDataset/users.csv', index=False)"
   ]
  },
  {
   "cell_type": "code",
   "execution_count": 7,
   "id": "c0c0e7f9-117d-4f68-a9e0-a57bfbf6ff68",
   "metadata": {},
   "outputs": [
    {
     "data": {
      "text/plain": [
       "55393"
      ]
     },
     "execution_count": 7,
     "metadata": {},
     "output_type": "execute_result"
    }
   ],
   "source": [
    "len(users)"
   ]
  },
  {
   "cell_type": "code",
   "execution_count": null,
   "id": "94eb5f06-c630-47dc-b173-4d23036ea925",
   "metadata": {},
   "outputs": [],
   "source": []
  }
 ],
 "metadata": {
  "kernelspec": {
   "display_name": "Python 3 (ipykernel)",
   "language": "python",
   "name": "python3"
  },
  "language_info": {
   "codemirror_mode": {
    "name": "ipython",
    "version": 3
   },
   "file_extension": ".py",
   "mimetype": "text/x-python",
   "name": "python",
   "nbconvert_exporter": "python",
   "pygments_lexer": "ipython3",
   "version": "3.10.12"
  }
 },
 "nbformat": 4,
 "nbformat_minor": 5
}
