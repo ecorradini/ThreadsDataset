{
 "cells": [
  {
   "cell_type": "code",
   "execution_count": 1,
   "id": "6034cb5c",
   "metadata": {},
   "outputs": [],
   "source": [
    "from selenium import webdriver\n",
    "from selenium.webdriver.chrome.options import Options\n",
    "from selenium.webdriver.common.by import By\n",
    "import time\n",
    "import random\n",
    "import mysql.connector\n",
    "from datetime import datetime\n",
    "\n",
    "user_agents = [\n",
    "    \"Mozilla/5.0 (Windows NT 10.0; Win64; x64) AppleWebKit/537.36 (KHTML, like Gecko) Chrome/58.0.3029.110 Safari/537.3\",\n",
    "    \"Mozilla/5.0 (Windows NT 10.0; Win64; x64) AppleWebKit/537.36 (KHTML, like Gecko) Chrome/59.0.3071.115 Safari/537.36\",\n",
    "    \"Mozilla/5.0 (Macintosh; Intel Mac OS X 10_15_5) AppleWebKit/605.1.15 (KHTML, like Gecko) Version/13.1.1 Safari/605.1.15\",\n",
    "    \"Mozilla/5.0 (Windows NT 10.0; Win64; x64; rv:77.0) Gecko/20100101 Firefox/77.0\",\n",
    "    \"Mozilla/5.0 (Macintosh; Intel Mac OS X 10_15_5) AppleWebKit/537.36 (KHTML, like Gecko) Chrome/83.0.4103.97 Safari/537.36\",\n",
    "    \"Mozilla/5.0 (Windows NT 10.0; Win64; x64) AppleWebKit/537.36 (KHTML, like Gecko) Chrome/83.0.4103.61 Safari/537.36\",\n",
    "    \"Mozilla/5.0 (Windows NT 10.0; WOW64; Trident/7.0; rv:11.0) like Gecko\",\n",
    "    \"Mozilla/5.0 (iPad; CPU OS 13_5 like Mac OS X) AppleWebKit/605.1.15 (KHTML, like Gecko) Version/13.1 Mobile/15E148 Safari/604.1\",\n",
    "    \"Mozilla/5.0 (Macintosh; Intel Mac OS X 10_15_4) AppleWebKit/537.36 (KHTML, like Gecko) Chrome/83.0.4103.61 Safari/537.36\",\n",
    "    \"Mozilla/5.0 (iPhone; CPU iPhone OS 13_5 like Mac OS X) AppleWebKit/605.1.15 (KHTML, like Gecko) Version/13.1.1 Mobile/15E148 Safari/604.1\",\n",
    "    \"Mozilla/5.0 (X11; Ubuntu; Linux x86_64; rv:77.0) Gecko/20100101 Firefox/77.0\",\n",
    "    \"Mozilla/5.0 (Linux; Android 10; SM-G975F) AppleWebKit/537.36 (KHTML, like Gecko) Chrome/83.0.4103.96 Mobile Safari/537.36\",\n",
    "    \"Mozilla/5.0 (Windows NT 10.0; Win64; x64; rv:68.0) Gecko/20100101 Firefox/68.0\",\n",
    "    \"Mozilla/5.0 (Windows NT 10.0; Win64; x64) AppleWebKit/537.36 (KHTML, like Gecko) Edge/83.0.478.37\",\n",
    "    \"Mozilla/5.0 (Linux; Android 10; SM-G973F) AppleWebKit/537.36 (KHTML, like Gecko) Chrome/83.0.4103.96 Mobile Safari/537.36\"\n",
    "]\n",
    "def create_driver_with_user_agent(user_agent):\n",
    "    options = Options()\n",
    "    options.add_argument(\"--disable-dev-shm-usage\")\n",
    "    options.add_argument(\"--no-sandbox\")\n",
    "    options.add_argument(f'user-agent={user_agent}')\n",
    "    return webdriver.Chrome(options=options)\n",
    "\n",
    "def go_to_post_page(post_url):\n",
    "    driver = create_driver_with_user_agent(random.choice(user_agents))\n",
    "    driver.get(post_url)\n",
    "    time.sleep(3)\n",
    "    try:\n",
    "        cookies = \"/html/body/div[4]/div/div/div[2]/div/div/div/div[2]/div/div/div/div[2]/div/div[2]\"\n",
    "        cookies2 = \"/html/body/div[3]/div/div/div[2]/div/div/div/div[2]/div/div/div/div[2]/div/div[2]\"\n",
    "        try:\n",
    "            cookies_button = driver.find_element(By.XPATH, cookies)\n",
    "        except:\n",
    "            cookies_button = driver.find_element(By.XPATH, cookies2)\n",
    "        cookies_button.click()\n",
    "        time.sleep(2)\n",
    "    except:\n",
    "        delete_unavailable(post_url)\n",
    "        driver.close()\n",
    "        return None\n",
    "    return driver\n",
    "\n",
    "def connect_to_db():\n",
    "    db_params = {\n",
    "        'host': '192.168.100.200',\n",
    "        'user': 'ecorradini',\n",
    "        'password': 'birillo',\n",
    "        'database': 'threads'\n",
    "    }\n",
    "    db_connection = mysql.connector.connect(**db_params)\n",
    "    db_cursor = db_connection.cursor()\n",
    "    return db_connection,db_cursor\n",
    "\n",
    "def fetch_posts():\n",
    "    db_connection,db_cursor = connect_to_db()\n",
    "    query = \"\"\"\n",
    "        SELECT p.post_url\n",
    "        FROM post p\n",
    "        WHERE NOT EXISTS (\n",
    "            SELECT 1\n",
    "            FROM post_data pd\n",
    "            WHERE pd.url = p.post_url\n",
    "        );\n",
    "    \"\"\"\n",
    "    db_cursor.execute(query)\n",
    "    return db_cursor.fetchall()\n",
    "\n",
    "def update_image(post_url, image_url):\n",
    "    db_connection,db_cursor = connect_to_db()\n",
    "    update_query = \"UPDATE post SET image_url = %s WHERE post_url = %s\"\n",
    "    db_cursor.execute(update_query, (image_url, post_url))\n",
    "    db_connection.commit()\n",
    "    db_cursor.close()\n",
    "    db_connection.close()\n",
    "    \n",
    "def insert_comment(comment_url, post_url, user, image, caption, c_time):\n",
    "    db_params = {\n",
    "        'host': '192.168.100.200',  # Or your database host\n",
    "        'user': 'ecorradini',   # Your database username\n",
    "        'password': 'birillo',\n",
    "        'database': 'threads'\n",
    "    }\n",
    "    db_connection = mysql.connector.connect(**db_params)\n",
    "    db_cursor = db_connection.cursor()\n",
    "    \n",
    "    if caption is not None:\n",
    "        c = caption.replace('\"','\\\"').replace(\"'\",\"\\'\")\n",
    "    else:\n",
    "        c = caption\n",
    "    insert_query = \"INSERT INTO comment (url, post, user, time, caption, image) VALUES (%s, %s, %s, %s, %s, %s)\"\n",
    "    timestamp = datetime.strptime(c_time, \"%Y-%m-%dT%H:%M:%S.%fZ\").timestamp()\n",
    "    formatted_time = datetime.utcfromtimestamp(timestamp).strftime('%Y-%m-%d %H:%M:%S')\n",
    "    data = (comment_url,post_url,user,formatted_time,c,image)\n",
    "    db_cursor.execute(insert_query, data)\n",
    "    db_connection.commit()\n",
    "    \n",
    "    db_cursor.close()\n",
    "    db_connection.close()\n",
    "    \n",
    "def insert_post_data(url, p_time, likes):\n",
    "    db_params = {\n",
    "        'host': '192.168.100.200',  # Or your database host\n",
    "        'user': 'ecorradini',   # Your database username\n",
    "        'password': 'birillo',\n",
    "        'database': 'threads'\n",
    "    }\n",
    "    db_connection = mysql.connector.connect(**db_params)\n",
    "    db_cursor = db_connection.cursor()\n",
    "    \n",
    "    insert_query = \"INSERT INTO post_data (url, time, likes) VALUES (%s, %s, %s)\"\n",
    "    timestamp = datetime.strptime(p_time, \"%Y-%m-%dT%H:%M:%S.%fZ\").timestamp()\n",
    "    formatted_time = datetime.utcfromtimestamp(timestamp).strftime('%Y-%m-%d %H:%M:%S')\n",
    "    data = (url,formatted_time,likes)\n",
    "    db_cursor.execute(insert_query, data)\n",
    "    db_connection.commit()\n",
    "    \n",
    "    db_cursor.close()\n",
    "    db_connection.close()\n",
    "    \n",
    "def delete_unavailable(post_url):\n",
    "    db_params = {\n",
    "        'host': '192.168.100.200',  # Or your database host\n",
    "        'user': 'ecorradini',   # Your database username\n",
    "        'password': 'birillo',\n",
    "        'database': 'threads'\n",
    "    }\n",
    "    db_connection = mysql.connector.connect(**db_params)\n",
    "    db_cursor = db_connection.cursor()\n",
    "    \n",
    "    delete_query1 = f\"DELETE FROM images WHERE post_url='{post_url}'\"\n",
    "    db_cursor.execute(delete_query1)\n",
    "    delete_query2 = f\"DELETE FROM post WHERE post_url='{post_url}'\"\n",
    "    db_cursor.execute(delete_query2)\n",
    "    db_connection.commit()\n",
    "    \n",
    "    db_cursor.close()\n",
    "    db_connection.close()"
   ]
  },
  {
   "cell_type": "code",
   "execution_count": 2,
   "id": "d30fa35d",
   "metadata": {},
   "outputs": [],
   "source": [
    "base_path = \"/html/body/div[2]/div/div/div[2]/div/div/div/div[1]/div[1]\"\n",
    "post_path = base_path + \"/div[1]/div/div/div\"\n",
    "comments_path = base_path + \"/div[position() > 1 and position() < last() - 2]\"\n",
    "\n",
    "def get_video_url(driver):\n",
    "    video_path = post_path + \"/div/div[3]/div/div[2]/div/div/div/div/div/div/div/div/div/div/video\"\n",
    "    try:\n",
    "        video = driver.find_element(By.XPATH,video_path)\n",
    "        video_url = video.get_attribute('src')\n",
    "        return video_url\n",
    "    except:\n",
    "        return None\n",
    "\n",
    "def get_image_url(driver):\n",
    "    image_path = post_path + \"/div[2]/div[3]/div/div[2]/div/div/picture/img\"\n",
    "    try:\n",
    "        picture = driver.find_element(By.XPATH,image_path)\n",
    "        image_url = picture.get_attribute('src')\n",
    "        return image_url\n",
    "    except:\n",
    "        return None\n",
    "    \n",
    "def get_time(driver):\n",
    "    time_path = post_path + \"/div[2]/div[2]/div/div[2]/span/a/time\"\n",
    "    try:\n",
    "        time_p = driver.find_element(By.XPATH,time_path)\n",
    "        post_time = time_p.get_attribute(\"datetime\")\n",
    "        return post_time\n",
    "    except:\n",
    "        return None\n",
    "\n",
    "def get_likes(driver):\n",
    "    likes_path = post_path + \"/div[2]/div[4]/div/span/span/div/div\"\n",
    "    try:\n",
    "        return int(driver.find_element(By.XPATH,likes_path).text.replace(\",\", \"\"))\n",
    "    except Exception as e:\n",
    "        likes_path2 = post_path + \"/div[2]/div[4]/div/a/span/span/div/div\"\n",
    "        try:\n",
    "            return int(driver.find_element(By.XPATH,likes_path2).text.replace(\",\", \"\"))\n",
    "        except:\n",
    "            return 0\n",
    "    \n",
    "def parse_comments(driver):\n",
    "    comment_base_path = \"./div/div[1]/div/div[2]\"\n",
    "    comment_url_path = comment_base_path + \"/div[2]/div/div[2]/span/a\"\n",
    "    user_path = comment_base_path + \"/div[2]/div/div[1]/span/div/div/a\"\n",
    "    time_path = comment_base_path + \"/div[2]/div/div[2]/span/a/time\"\n",
    "    contents_path = comment_base_path + \"/div[3]/div\"\n",
    "    contents_path2 = comment_base_path + \"/div[4]/div\"\n",
    "    comment_url = driver.find_element(By.XPATH,comment_url_path).get_attribute('href')\n",
    "    user = driver.find_element(By.XPATH,user_path)\n",
    "    user_url = user.get_attribute('href')\n",
    "    time = driver.find_element(By.XPATH,time_path)\n",
    "    comment_time = time.get_attribute(\"datetime\")\n",
    "    contents = driver.find_elements(By.XPATH,contents_path)\n",
    "    if len(contents) > 0:\n",
    "        caption,image = parse_comment_contents(contents)\n",
    "    else:\n",
    "        contents2 = driver.find_elements(By.XPATH,contents_path2)\n",
    "        caption,image = parse_comment_contents(contents2)\n",
    "    return comment_url,user_url,comment_time,caption,image\n",
    "    \n",
    "def parse_comment_contents(comment_contents):\n",
    "    #caption_path = \"./div[1]\"\n",
    "    caption = comment_contents[0].text\n",
    "    image_path = \"./div/div/picture/img\"\n",
    "    try:\n",
    "        image = comment_contents[1].find_element(By.XPATH,image_path).get_attribute('src')\n",
    "    except:\n",
    "        image = \"\"\n",
    "    return caption,image"
   ]
  },
  {
   "cell_type": "code",
   "execution_count": 3,
   "id": "e3446ffb",
   "metadata": {},
   "outputs": [
    {
     "ename": "KeyboardInterrupt",
     "evalue": "",
     "output_type": "error",
     "traceback": [
      "\u001b[0;31m---------------------------------------------------------------------------\u001b[0m",
      "\u001b[0;31mKeyboardInterrupt\u001b[0m                         Traceback (most recent call last)",
      "Cell \u001b[0;32mIn[3], line 2\u001b[0m\n\u001b[1;32m      1\u001b[0m \u001b[38;5;28;01mwhile\u001b[39;00m \u001b[38;5;28;01mTrue\u001b[39;00m:\n\u001b[0;32m----> 2\u001b[0m     posts \u001b[38;5;241m=\u001b[39m [x[\u001b[38;5;241m0\u001b[39m] \u001b[38;5;28;01mfor\u001b[39;00m x \u001b[38;5;129;01min\u001b[39;00m \u001b[43mfetch_posts\u001b[49m\u001b[43m(\u001b[49m\u001b[43m)\u001b[49m]\n\u001b[1;32m      3\u001b[0m     \u001b[38;5;28;01mif\u001b[39;00m \u001b[38;5;28mlen\u001b[39m(posts) \u001b[38;5;241m>\u001b[39m \u001b[38;5;241m0\u001b[39m:\n\u001b[1;32m      4\u001b[0m         post \u001b[38;5;241m=\u001b[39m posts[\u001b[38;5;241m0\u001b[39m]\n",
      "Cell \u001b[0;32mIn[1], line 74\u001b[0m, in \u001b[0;36mfetch_posts\u001b[0;34m()\u001b[0m\n\u001b[1;32m     64\u001b[0m db_connection,db_cursor \u001b[38;5;241m=\u001b[39m connect_to_db()\n\u001b[1;32m     65\u001b[0m query \u001b[38;5;241m=\u001b[39m \u001b[38;5;124m\"\"\"\u001b[39m\n\u001b[1;32m     66\u001b[0m \u001b[38;5;124m    SELECT p.post_url\u001b[39m\n\u001b[1;32m     67\u001b[0m \u001b[38;5;124m    FROM post p\u001b[39m\n\u001b[0;32m   (...)\u001b[0m\n\u001b[1;32m     72\u001b[0m \u001b[38;5;124m    );\u001b[39m\n\u001b[1;32m     73\u001b[0m \u001b[38;5;124m\u001b[39m\u001b[38;5;124m\"\"\"\u001b[39m\n\u001b[0;32m---> 74\u001b[0m \u001b[43mdb_cursor\u001b[49m\u001b[38;5;241;43m.\u001b[39;49m\u001b[43mexecute\u001b[49m\u001b[43m(\u001b[49m\u001b[43mquery\u001b[49m\u001b[43m)\u001b[49m\n\u001b[1;32m     75\u001b[0m \u001b[38;5;28;01mreturn\u001b[39;00m db_cursor\u001b[38;5;241m.\u001b[39mfetchall()\n",
      "File \u001b[0;32m/usr/local/lib/python3.10/dist-packages/mysql/connector/cursor_cext.py:374\u001b[0m, in \u001b[0;36mCMySQLCursor.execute\u001b[0;34m(self, operation, params, multi)\u001b[0m\n\u001b[1;32m    369\u001b[0m             \u001b[38;5;28;01mraise\u001b[39;00m ProgrammingError(\n\u001b[1;32m    370\u001b[0m                 \u001b[38;5;124m\"\u001b[39m\u001b[38;5;124mNot all parameters were used in the SQL statement\u001b[39m\u001b[38;5;124m\"\u001b[39m\n\u001b[1;32m    371\u001b[0m             )\n\u001b[1;32m    373\u001b[0m \u001b[38;5;28;01mtry\u001b[39;00m:\n\u001b[0;32m--> 374\u001b[0m     result \u001b[38;5;241m=\u001b[39m \u001b[38;5;28;43mself\u001b[39;49m\u001b[38;5;241;43m.\u001b[39;49m\u001b[43m_cnx\u001b[49m\u001b[38;5;241;43m.\u001b[39;49m\u001b[43mcmd_query\u001b[49m\u001b[43m(\u001b[49m\n\u001b[1;32m    375\u001b[0m \u001b[43m        \u001b[49m\u001b[43mstmt\u001b[49m\u001b[43m,\u001b[49m\n\u001b[1;32m    376\u001b[0m \u001b[43m        \u001b[49m\u001b[43mraw\u001b[49m\u001b[38;5;241;43m=\u001b[39;49m\u001b[38;5;28;43mself\u001b[39;49m\u001b[38;5;241;43m.\u001b[39;49m\u001b[43m_raw\u001b[49m\u001b[43m,\u001b[49m\n\u001b[1;32m    377\u001b[0m \u001b[43m        \u001b[49m\u001b[43mbuffered\u001b[49m\u001b[38;5;241;43m=\u001b[39;49m\u001b[38;5;28;43mself\u001b[39;49m\u001b[38;5;241;43m.\u001b[39;49m\u001b[43m_buffered\u001b[49m\u001b[43m,\u001b[49m\n\u001b[1;32m    378\u001b[0m \u001b[43m        \u001b[49m\u001b[43mraw_as_string\u001b[49m\u001b[38;5;241;43m=\u001b[39;49m\u001b[38;5;28;43mself\u001b[39;49m\u001b[38;5;241;43m.\u001b[39;49m\u001b[43m_raw_as_string\u001b[49m\u001b[43m,\u001b[49m\n\u001b[1;32m    379\u001b[0m \u001b[43m    \u001b[49m\u001b[43m)\u001b[49m\n\u001b[1;32m    380\u001b[0m \u001b[38;5;28;01mexcept\u001b[39;00m MySQLInterfaceError \u001b[38;5;28;01mas\u001b[39;00m err:\n\u001b[1;32m    381\u001b[0m     \u001b[38;5;28;01mraise\u001b[39;00m get_mysql_exception(\n\u001b[1;32m    382\u001b[0m         msg\u001b[38;5;241m=\u001b[39merr\u001b[38;5;241m.\u001b[39mmsg, errno\u001b[38;5;241m=\u001b[39merr\u001b[38;5;241m.\u001b[39merrno, sqlstate\u001b[38;5;241m=\u001b[39merr\u001b[38;5;241m.\u001b[39msqlstate\n\u001b[1;32m    383\u001b[0m     ) \u001b[38;5;28;01mfrom\u001b[39;00m \u001b[38;5;21;01merr\u001b[39;00m\n",
      "File \u001b[0;32m/usr/local/lib/python3.10/dist-packages/mysql/connector/opentelemetry/context_propagation.py:74\u001b[0m, in \u001b[0;36mwith_context_propagation.<locals>.wrapper\u001b[0;34m(cnx, *args, **kwargs)\u001b[0m\n\u001b[1;32m     72\u001b[0m \u001b[38;5;250m\u001b[39m\u001b[38;5;124;03m\"\"\"Context propagation decorator.\"\"\"\u001b[39;00m\n\u001b[1;32m     73\u001b[0m \u001b[38;5;28;01mif\u001b[39;00m \u001b[38;5;129;01mnot\u001b[39;00m OTEL_ENABLED \u001b[38;5;129;01mor\u001b[39;00m \u001b[38;5;129;01mnot\u001b[39;00m cnx\u001b[38;5;241m.\u001b[39motel_context_propagation:\n\u001b[0;32m---> 74\u001b[0m     \u001b[38;5;28;01mreturn\u001b[39;00m \u001b[43mmethod\u001b[49m\u001b[43m(\u001b[49m\u001b[43mcnx\u001b[49m\u001b[43m,\u001b[49m\u001b[43m \u001b[49m\u001b[38;5;241;43m*\u001b[39;49m\u001b[43margs\u001b[49m\u001b[43m,\u001b[49m\u001b[43m \u001b[49m\u001b[38;5;241;43m*\u001b[39;49m\u001b[38;5;241;43m*\u001b[39;49m\u001b[43mkwargs\u001b[49m\u001b[43m)\u001b[49m\n\u001b[1;32m     76\u001b[0m current_span \u001b[38;5;241m=\u001b[39m trace\u001b[38;5;241m.\u001b[39mget_current_span()\n\u001b[1;32m     77\u001b[0m tp_header \u001b[38;5;241m=\u001b[39m \u001b[38;5;28;01mNone\u001b[39;00m\n",
      "File \u001b[0;32m/usr/local/lib/python3.10/dist-packages/mysql/connector/connection_cext.py:661\u001b[0m, in \u001b[0;36mCMySQLConnection.cmd_query\u001b[0;34m(self, query, raw, buffered, raw_as_string)\u001b[0m\n\u001b[1;32m    659\u001b[0m     \u001b[38;5;28;01mif\u001b[39;00m \u001b[38;5;129;01mnot\u001b[39;00m \u001b[38;5;28misinstance\u001b[39m(query, \u001b[38;5;28mbytes\u001b[39m):\n\u001b[1;32m    660\u001b[0m         query \u001b[38;5;241m=\u001b[39m query\u001b[38;5;241m.\u001b[39mencode(\u001b[38;5;124m\"\u001b[39m\u001b[38;5;124mutf-8\u001b[39m\u001b[38;5;124m\"\u001b[39m)\n\u001b[0;32m--> 661\u001b[0m     \u001b[38;5;28;43mself\u001b[39;49m\u001b[38;5;241;43m.\u001b[39;49m\u001b[43m_cmysql\u001b[49m\u001b[38;5;241;43m.\u001b[39;49m\u001b[43mquery\u001b[49m\u001b[43m(\u001b[49m\n\u001b[1;32m    662\u001b[0m \u001b[43m        \u001b[49m\u001b[43mquery\u001b[49m\u001b[43m,\u001b[49m\n\u001b[1;32m    663\u001b[0m \u001b[43m        \u001b[49m\u001b[43mraw\u001b[49m\u001b[38;5;241;43m=\u001b[39;49m\u001b[43mraw\u001b[49m\u001b[43m,\u001b[49m\n\u001b[1;32m    664\u001b[0m \u001b[43m        \u001b[49m\u001b[43mbuffered\u001b[49m\u001b[38;5;241;43m=\u001b[39;49m\u001b[43mbuffered\u001b[49m\u001b[43m,\u001b[49m\n\u001b[1;32m    665\u001b[0m \u001b[43m        \u001b[49m\u001b[43mraw_as_string\u001b[49m\u001b[38;5;241;43m=\u001b[39;49m\u001b[43mraw_as_string\u001b[49m\u001b[43m,\u001b[49m\n\u001b[1;32m    666\u001b[0m \u001b[43m        \u001b[49m\u001b[43mquery_attrs\u001b[49m\u001b[38;5;241;43m=\u001b[39;49m\u001b[38;5;28;43mself\u001b[39;49m\u001b[38;5;241;43m.\u001b[39;49m\u001b[43mquery_attrs\u001b[49m\u001b[43m,\u001b[49m\n\u001b[1;32m    667\u001b[0m \u001b[43m    \u001b[49m\u001b[43m)\u001b[49m\n\u001b[1;32m    668\u001b[0m \u001b[38;5;28;01mexcept\u001b[39;00m MySQLInterfaceError \u001b[38;5;28;01mas\u001b[39;00m err:\n\u001b[1;32m    669\u001b[0m     \u001b[38;5;28;01mraise\u001b[39;00m get_mysql_exception(\n\u001b[1;32m    670\u001b[0m         err\u001b[38;5;241m.\u001b[39merrno, msg\u001b[38;5;241m=\u001b[39merr\u001b[38;5;241m.\u001b[39mmsg, sqlstate\u001b[38;5;241m=\u001b[39merr\u001b[38;5;241m.\u001b[39msqlstate\n\u001b[1;32m    671\u001b[0m     ) \u001b[38;5;28;01mfrom\u001b[39;00m \u001b[38;5;21;01merr\u001b[39;00m\n",
      "\u001b[0;31mKeyboardInterrupt\u001b[0m: "
     ]
    }
   ],
   "source": [
    "while True:\n",
    "    posts = [x[0] for x in fetch_posts()]\n",
    "    if len(posts) > 0:\n",
    "        post = posts[0]\n",
    "        driver = go_to_post_page(post)\n",
    "        if driver is not None:\n",
    "            image = get_image_url(driver)\n",
    "            video = get_video_url(driver)\n",
    "            if image:\n",
    "                update_image(post, image)\n",
    "            elif video:\n",
    "                update_image(post, video)\n",
    "            p_time = get_time(driver)\n",
    "            likes = get_likes(driver)\n",
    "            insert_post_data(post,p_time,likes)\n",
    "            comments = driver.find_elements(By.XPATH,comments_path)\n",
    "            for comment in comments:\n",
    "                try:\n",
    "                    comment_url,comment_user,comment_time,comment_caption,comment_image = parse_comments(comment)\n",
    "                    insert_comment(comment_url,post,comment_user, comment_image, comment_caption,comment_time)\n",
    "                except:\n",
    "                    continue\n",
    "            driver.close()"
   ]
  },
  {
   "cell_type": "code",
   "execution_count": 70,
   "id": "453ae990",
   "metadata": {},
   "outputs": [],
   "source": [
    "posts = [x[0] for x in fetch_posts()]\n",
    "driver = go_to_post_page(posts[0])"
   ]
  },
  {
   "cell_type": "code",
   "execution_count": 73,
   "id": "efdbd7a1",
   "metadata": {},
   "outputs": [
    {
     "data": {
      "text/plain": [
       "'https://scontent.cdninstagram.com/v/t51.2885-15/419490652_1091811595571112_4052729355745947940_n.jpg?stp=dst-jpg_e35&efg=eyJ2ZW5jb2RlX3RhZyI6ImltYWdlX3VybGdlbi4xNDQweDE4MDAuc2RyIn0&_nc_ht=scontent.cdninstagram.com&_nc_cat=100&_nc_ohc=wz53J5mLEFIAX8hKFe8&edm=APs17CUBAAAA&ccb=7-5&ig_cache_key=MzI4MzIxNDk1OTcyNjEwNzgzOQ%3D%3D.2-ccb7-5&oh=00_AfC96YPmfYlzpbKuqdRuKA8dJ029AEatNYl7UJyo4qxyEA&oe=65AF0E66&_nc_sid=10d13b'"
      ]
     },
     "execution_count": 73,
     "metadata": {},
     "output_type": "execute_result"
    }
   ],
   "source": [
    "image = get_image_url(driver)\n",
    "image"
   ]
  },
  {
   "cell_type": "code",
   "execution_count": 37,
   "id": "35eae283",
   "metadata": {},
   "outputs": [],
   "source": [
    "driver = go_to_post_page(\"posts[5]\")"
   ]
  },
  {
   "cell_type": "code",
   "execution_count": 64,
   "id": "12872f98",
   "metadata": {},
   "outputs": [
    {
     "name": "stdout",
     "output_type": "stream",
     "text": [
      "2024-01-09T12:36:40.000Z\n",
      "None\n"
     ]
    }
   ],
   "source": [
    "print(get_time(driver))\n",
    "print(get_likes(driver))"
   ]
  },
  {
   "cell_type": "code",
   "execution_count": 73,
   "id": "bcb04c27",
   "metadata": {},
   "outputs": [
    {
     "name": "stdout",
     "output_type": "stream",
     "text": [
      "1\n",
      "[<selenium.webdriver.remote.webelement.WebElement (session=\"b47baf00b3878937ff4c378a343ae8e0\", element=\"755B2A35ABE483EA7B16E2F8C4AA8252_element_13\")>]\n",
      "('https://www.threads.net/@tgibb5081/post/C04UKt1Olhd', 'https://www.threads.net/@tgibb5081', '2023-12-15T16:11:40.000Z', 'She looks terrible', '')\n"
     ]
    }
   ],
   "source": [
    "comments = driver.find_elements(By.XPATH,comments_path)\n",
    "#print(comments[0].get_attribute(\"innerHTML\"))\n",
    "print(len(comments))\n",
    "for comment in comments:\n",
    "    print(parse_comments(comment))"
   ]
  },
  {
   "cell_type": "code",
   "execution_count": 71,
   "id": "b28f52be",
   "metadata": {},
   "outputs": [
    {
     "name": "stdout",
     "output_type": "stream",
     "text": [
      "[]\n"
     ]
    },
    {
     "ename": "IndexError",
     "evalue": "list index out of range",
     "output_type": "error",
     "traceback": [
      "\u001b[0;31m---------------------------------------------------------------------------\u001b[0m",
      "\u001b[0;31mIndexError\u001b[0m                                Traceback (most recent call last)",
      "Cell \u001b[0;32mIn[71], line 1\u001b[0m\n\u001b[0;32m----> 1\u001b[0m \u001b[43mparse_comments\u001b[49m\u001b[43m(\u001b[49m\u001b[43mcomments\u001b[49m\u001b[43m[\u001b[49m\u001b[38;5;241;43m0\u001b[39;49m\u001b[43m]\u001b[49m\u001b[43m)\u001b[49m\n",
      "Cell \u001b[0;32mIn[70], line 40\u001b[0m, in \u001b[0;36mparse_comments\u001b[0;34m(driver)\u001b[0m\n\u001b[1;32m     38\u001b[0m \u001b[38;5;28;01melse\u001b[39;00m:\n\u001b[1;32m     39\u001b[0m     contents2 \u001b[38;5;241m=\u001b[39m driver\u001b[38;5;241m.\u001b[39mfind_elements(By\u001b[38;5;241m.\u001b[39mXPATH,contents_path2)\n\u001b[0;32m---> 40\u001b[0m     caption,image \u001b[38;5;241m=\u001b[39m \u001b[43mparse_comment_contents\u001b[49m\u001b[43m(\u001b[49m\u001b[43mcontents2\u001b[49m\u001b[43m)\u001b[49m\n\u001b[1;32m     41\u001b[0m \u001b[38;5;28;01mreturn\u001b[39;00m comment_url,user_url,comment_time,caption,image\n",
      "Cell \u001b[0;32mIn[70], line 68\u001b[0m, in \u001b[0;36mparse_comment_contents\u001b[0;34m(comment_contents)\u001b[0m\n\u001b[1;32m     65\u001b[0m \u001b[38;5;28;01mdef\u001b[39;00m \u001b[38;5;21mparse_comment_contents\u001b[39m(comment_contents):\n\u001b[1;32m     66\u001b[0m     \u001b[38;5;66;03m#caption_path = \"./div[1]\"\u001b[39;00m\n\u001b[1;32m     67\u001b[0m     \u001b[38;5;28mprint\u001b[39m(comment_contents)\n\u001b[0;32m---> 68\u001b[0m     caption \u001b[38;5;241m=\u001b[39m \u001b[43mcomment_contents\u001b[49m\u001b[43m[\u001b[49m\u001b[38;5;241;43m0\u001b[39;49m\u001b[43m]\u001b[49m\u001b[38;5;241m.\u001b[39mtext\n\u001b[1;32m     69\u001b[0m     image_path \u001b[38;5;241m=\u001b[39m \u001b[38;5;124m\"\u001b[39m\u001b[38;5;124m./div/div/picture/img\u001b[39m\u001b[38;5;124m\"\u001b[39m\n\u001b[1;32m     70\u001b[0m     \u001b[38;5;28;01mtry\u001b[39;00m:\n",
      "\u001b[0;31mIndexError\u001b[0m: list index out of range"
     ]
    }
   ],
   "source": [
    "parse_comments(comments[0])"
   ]
  },
  {
   "cell_type": "code",
   "execution_count": 58,
   "id": "52c8dbeb",
   "metadata": {},
   "outputs": [
    {
     "data": {
      "text/plain": [
       "''"
      ]
     },
     "execution_count": 58,
     "metadata": {},
     "output_type": "execute_result"
    }
   ],
   "source": [
    "driver.find_element(By.XPATH,post_path + \"/div[2]/div[3]/div/div[2]/div/div/picture\").text"
   ]
  },
  {
   "cell_type": "code",
   "execution_count": 74,
   "id": "eab0a293",
   "metadata": {},
   "outputs": [
    {
     "data": {
      "text/plain": [
       "'https://scontent.cdninstagram.com/v/t51.2885-15/410351190_1098376414523509_8444690351365330488_n.jpg?stp=dst-jpg_e35&efg=eyJ2ZW5jb2RlX3RhZyI6ImltYWdlX3VybGdlbi4xMTcweDExNjkuc2RyIn0&_nc_ht=scontent.cdninstagram.com&_nc_cat=101&_nc_ohc=y8mZzy0IekoAX-x9fw3&edm=APs17CUBAAAA&ccb=7-5&ig_cache_key=MzI1Nzg1OTA2MzY2OTI3NTg1NA%3D%3D.2-ccb7-5&oh=00_AfB_iXFwYztaFSUhH_T0OVhylto9Dm7V0axv_Yjvyk41tg&oe=6586D0DD&_nc_sid=10d13b'"
      ]
     },
     "execution_count": 74,
     "metadata": {},
     "output_type": "execute_result"
    }
   ],
   "source": [
    "get_image_url(driver)"
   ]
  },
  {
   "cell_type": "code",
   "execution_count": 70,
   "id": "eb6d4e25",
   "metadata": {},
   "outputs": [
    {
     "data": {
      "text/plain": [
       "'https://scontent.cdninstagram.com/v/t50.2886-16/412493402_759190752914194_5492467403239883235_n.mp4?_nc_ht=scontent.cdninstagram.com&_nc_cat=110&_nc_ohc=s9OjxdSZ2KsAX8g3zLL&edm=APs17CUBAAAA&ccb=7-5&oh=00_AfD8SaA5MNf461F68o-TlxBaWaBGUak7LfXFLVPImkhU5A&oe=65847815&_nc_sid=10d13b'"
      ]
     },
     "execution_count": 70,
     "metadata": {},
     "output_type": "execute_result"
    }
   ],
   "source": [
    "get_video_url(driver)"
   ]
  },
  {
   "cell_type": "code",
   "execution_count": null,
   "id": "a948c4c5",
   "metadata": {},
   "outputs": [],
   "source": []
  }
 ],
 "metadata": {
  "kernelspec": {
   "display_name": "Python 3 (ipykernel)",
   "language": "python",
   "name": "python3"
  },
  "language_info": {
   "codemirror_mode": {
    "name": "ipython",
    "version": 3
   },
   "file_extension": ".py",
   "mimetype": "text/x-python",
   "name": "python",
   "nbconvert_exporter": "python",
   "pygments_lexer": "ipython3",
   "version": "3.10.12"
  }
 },
 "nbformat": 4,
 "nbformat_minor": 5
}
