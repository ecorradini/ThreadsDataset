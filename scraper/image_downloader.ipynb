{
 "cells": [
  {
   "cell_type": "code",
   "execution_count": 2,
   "id": "6c747057",
   "metadata": {},
   "outputs": [],
   "source": [
    "import mysql.connector\n",
    "import requests\n",
    "import time\n",
    "import os\n",
    "import mimetypes\n",
    "\n",
    "db_params = {\n",
    "    'host': '192.168.100.200',\n",
    "    'user': 'ecorradini',\n",
    "    'password': 'birillo',\n",
    "    'database': 'threads'\n",
    "}\n",
    "\n",
    "def connect_to_db():\n",
    "    return mysql.connector.connect(**db_params)\n",
    "\n",
    "def fetch_new_images_post_old(cursor):\n",
    "    query = \"\"\"\n",
    "        SELECT p.post_url, p.image_url\n",
    "        FROM post p\n",
    "        LEFT JOIN images i ON p.post_url = i.post_url\n",
    "        WHERE p.image_url != '' AND i.image_path IS NULL\n",
    "    \"\"\"\n",
    "    cursor.execute(query)\n",
    "    return cursor.fetchall()\n",
    "\n",
    "def fetch_new_images_comment(cursor):\n",
    "    query = \"\"\"\n",
    "        SELECT c.url, c.image\n",
    "        FROM comment c\n",
    "        LEFT JOIN images i ON c.url = i.post_url\n",
    "        WHERE c.image != '' AND i.image_path IS NULL\n",
    "    \"\"\"\n",
    "    cursor.execute(query)\n",
    "    return cursor.fetchall()\n",
    "\n",
    "def fetch_new_images_post(cursor):\n",
    "    query = \"\"\"\n",
    "        SELECT d.url, d.image_video_url\n",
    "        FROM data d\n",
    "        LEFT JOIN images i ON d.url = i.post_url\n",
    "        WHERE d.image_video_url != '' AND i.image_path IS NULL\n",
    "    \"\"\"\n",
    "    cursor.execute(query)\n",
    "    return cursor.fetchall()\n",
    "\n",
    "def download_image(db_connection, cursor, url, post_url, download_path):\n",
    "    response = requests.get(url, stream=True)\n",
    "    if response.status_code == 200:\n",
    "        content_type = response.headers['Content-Type']\n",
    "        extension = mimetypes.guess_extension(content_type) or '.jpg'\n",
    "        filename = post_url.replace('https://www.threads.net/', '').replace('/post/', '_') + extension\n",
    "        filepath = os.path.join(download_path, filename)\n",
    "\n",
    "        with open(filepath, 'wb') as file:\n",
    "            for chunk in response.iter_content(chunk_size=8192):\n",
    "                file.write(chunk)\n",
    "\n",
    "        # Insert the downloaded image path into the images table\n",
    "        insert_query = \"INSERT INTO images (post_url, image_path) VALUES (%s, %s)\"\n",
    "        cursor.execute(insert_query, (post_url, filepath))\n",
    "        db_connection.commit()"
   ]
  },
  {
   "cell_type": "code",
   "execution_count": null,
   "id": "f2fd2d1c",
   "metadata": {},
   "outputs": [
    {
     "name": "stdout",
     "output_type": "stream",
     "text": [
      "TO DOWNLOAD: 3984\n"
     ]
    }
   ],
   "source": [
    "while True:\n",
    "    db_connection = connect_to_db()\n",
    "    cursor = db_connection.cursor()\n",
    "    new_images = fetch_new_images_post(cursor)\n",
    "    new_images.extend(fetch_new_images_post_old(cursor))\n",
    "    new_images.extend(fetch_new_images_comment(cursor))\n",
    "    print(f\"TO DOWNLOAD: {len(new_images)}\")\n",
    "    for post_url, image_url in new_images:\n",
    "        try:\n",
    "            download_image(db_connection,cursor,image_url,post_url,'/mnt/images_to_upload/')\n",
    "        except Exception as e:\n",
    "            continue\n",
    "    cursor.close()\n",
    "    db_connection.close()"
   ]
  },
  {
   "cell_type": "code",
   "execution_count": null,
   "id": "f343ac1d",
   "metadata": {},
   "outputs": [],
   "source": []
  }
 ],
 "metadata": {
  "kernelspec": {
   "display_name": "Python 3 (ipykernel)",
   "language": "python",
   "name": "python3"
  },
  "language_info": {
   "codemirror_mode": {
    "name": "ipython",
    "version": 3
   },
   "file_extension": ".py",
   "mimetype": "text/x-python",
   "name": "python",
   "nbconvert_exporter": "python",
   "pygments_lexer": "ipython3",
   "version": "3.10.12"
  }
 },
 "nbformat": 4,
 "nbformat_minor": 5
}
